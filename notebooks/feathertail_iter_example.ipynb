{
 "cells": [
  {
   "cell_type": "markdown",
   "id": "43113c3f",
   "metadata": {},
   "source": [
    "# 🌀 Feathertail Iteration Example\n",
    "\n",
    "This notebook demonstrates the new iterator support in Feathertail."
   ]
  },
  {
   "cell_type": "code",
   "execution_count": 1,
   "id": "36ce2a7e",
   "metadata": {},
   "outputs": [
    {
     "name": "stdout",
     "output_type": "stream",
     "text": [
      "TinyFrame(rows=3, columns=3, cols={ 'age': 'OptInt', 'city': 'Str', 'name': 'Str' })\n"
     ]
    }
   ],
   "source": [
    "import feathertail as ft\n",
    "\n",
    "records = [\n",
    "    {\"name\": \"Alice\", \"age\": 30, \"city\": \"New York\"},\n",
    "    {\"name\": \"Bob\", \"age\": None, \"city\": \"Paris\"},\n",
    "    {\"name\": \"Charlie\", \"age\": 25, \"city\": \"Berlin\"},\n",
    "]\n",
    "\n",
    "frame = ft.TinyFrame.from_dicts(records)\n",
    "print(frame)\n"
   ]
  },
  {
   "cell_type": "markdown",
   "id": "53db1569",
   "metadata": {},
   "source": [
    "## Iterate row by row"
   ]
  },
  {
   "cell_type": "code",
   "execution_count": 2,
   "id": "5558b4f3",
   "metadata": {},
   "outputs": [
    {
     "name": "stdout",
     "output_type": "stream",
     "text": [
      "{'age': 30, 'city': 'New York', 'name': 'Alice'}\n",
      "{'age': None, 'city': 'Paris', 'name': 'Bob'}\n",
      "{'age': 25, 'city': 'Berlin', 'name': 'Charlie'}\n"
     ]
    }
   ],
   "source": [
    "for row in frame:\n",
    "    print(row)\n"
   ]
  },
  {
   "cell_type": "markdown",
   "id": "9bd2532b",
   "metadata": {},
   "source": [
    "## Convert to list of dicts using iteration"
   ]
  },
  {
   "cell_type": "code",
   "execution_count": 3,
   "id": "4172548e",
   "metadata": {},
   "outputs": [
    {
     "name": "stdout",
     "output_type": "stream",
     "text": [
      "[{'age': 30, 'city': 'New York', 'name': 'Alice'}, {'age': None, 'city': 'Paris', 'name': 'Bob'}, {'age': 25, 'city': 'Berlin', 'name': 'Charlie'}]\n"
     ]
    }
   ],
   "source": [
    "rows = list(frame)\n",
    "print(rows)\n"
   ]
  }
 ],
 "metadata": {
  "kernelspec": {
   "display_name": ".venv",
   "language": "python",
   "name": "python3"
  },
  "language_info": {
   "codemirror_mode": {
    "name": "ipython",
    "version": 3
   },
   "file_extension": ".py",
   "mimetype": "text/x-python",
   "name": "python",
   "nbconvert_exporter": "python",
   "pygments_lexer": "ipython3",
   "version": "3.11.13"
  }
 },
 "nbformat": 4,
 "nbformat_minor": 5
}
