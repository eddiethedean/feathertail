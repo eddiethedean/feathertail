{
 "cells": [
  {
   "cell_type": "markdown",
   "id": "5ae939e4",
   "metadata": {},
   "source": [
    "# Feathertail Basics\n",
    "This notebook demonstrates the main features of `feathertail` for working with tabular data."
   ]
  },
  {
   "cell_type": "code",
   "execution_count": 1,
   "id": "9ad645b8",
   "metadata": {},
   "outputs": [],
   "source": [
    "import feathertail as ft"
   ]
  },
  {
   "cell_type": "code",
   "execution_count": 2,
   "id": "31d0ebde",
   "metadata": {},
   "outputs": [
    {
     "name": "stdout",
     "output_type": "stream",
     "text": [
      "TinyFrame(rows=4, columns=4, cols={ 'age': 'OptInt', 'name': 'OptPyObject', 'active': 'OptBool', 'score': 'OptFloat' })\n"
     ]
    },
    {
     "data": {
      "text/plain": [
       "[{'age': 30,\n",
       "  'name': {'first': 'Alice', 'last': 'Cooper'},\n",
       "  'active': True,\n",
       "  'score': 88.5},\n",
       " {'age': 25,\n",
       "  'name': {'first': 'Bob', 'last': 'Cooper'},\n",
       "  'active': False,\n",
       "  'score': None},\n",
       " {'age': None,\n",
       "  'name': {'first': 'Charlie', 'last': 'Cooper'},\n",
       "  'active': True,\n",
       "  'score': 72.0},\n",
       " {'age': 28, 'name': None, 'active': None, 'score': 91.0}]"
      ]
     },
     "execution_count": 2,
     "metadata": {},
     "output_type": "execute_result"
    }
   ],
   "source": [
    "records = [\n",
    "    {\"name\": {'first': \"Alice\", 'last': 'Cooper'}, \"age\": 30, \"score\": 88.5, \"active\": True},\n",
    "    {\"name\": {'first': \"Bob\", 'last': 'Cooper'}, \"age\": 25, \"score\": None, \"active\": False},\n",
    "    {\"name\": {'first': \"Charlie\", 'last': 'Cooper'}, \"age\": None, \"score\": 72.0, \"active\": True},\n",
    "    {\"name\": None, \"age\": 28, \"score\": 91.0, \"active\": None},\n",
    "]\n",
    "frame = ft.TinyFrame.from_dicts(records)\n",
    "print(frame)\n",
    "frame.to_dicts()"
   ]
  },
  {
   "cell_type": "code",
   "execution_count": 3,
   "id": "8f674551",
   "metadata": {},
   "outputs": [
    {
     "name": "stdout",
     "output_type": "stream",
     "text": [
      "Shape: (4, 4)\n",
      "Length: 4\n",
      "Is empty? False\n"
     ]
    }
   ],
   "source": [
    "print(\"Shape:\", frame.shape)\n",
    "print(\"Length:\", frame.len())\n",
    "print(\"Is empty?\", frame.is_empty())"
   ]
  },
  {
   "cell_type": "code",
   "execution_count": 4,
   "id": "8c5b8bfe",
   "metadata": {},
   "outputs": [
    {
     "data": {
      "text/plain": [
       "[{'age': 30,\n",
       "  'name': {'first': 'Alice', 'last': 'Cooper'},\n",
       "  'active': True,\n",
       "  'score': 88.5},\n",
       " {'age': 25,\n",
       "  'name': {'first': 'Bob', 'last': 'Cooper'},\n",
       "  'active': False,\n",
       "  'score': 0.0},\n",
       " {'age': 0,\n",
       "  'name': {'first': 'Charlie', 'last': 'Cooper'},\n",
       "  'active': True,\n",
       "  'score': 72.0},\n",
       " {'age': 28, 'name': None, 'active': False, 'score': 91.0}]"
      ]
     },
     "execution_count": 4,
     "metadata": {},
     "output_type": "execute_result"
    }
   ],
   "source": [
    "# Fill missing values\n",
    "frame.fillna(value={\"age\": 0, \"score\": 0.0, \"active\": False})\n",
    "frame.to_dicts()"
   ]
  },
  {
   "cell_type": "code",
   "execution_count": 5,
   "id": "f15f2acb",
   "metadata": {},
   "outputs": [
    {
     "data": {
      "text/plain": [
       "TinyFrame(rows=4, columns=4, cols={ 'age': 'Int', 'name': 'OptPyObject', 'active': 'Bool', 'score': 'Float' })"
      ]
     },
     "execution_count": 5,
     "metadata": {},
     "output_type": "execute_result"
    }
   ],
   "source": [
    "frame"
   ]
  },
  {
   "cell_type": "code",
   "execution_count": 6,
   "id": "2ae54f40",
   "metadata": {},
   "outputs": [
    {
     "name": "stdout",
     "output_type": "stream",
     "text": [
      "{'age': 30, 'name': {'first': 'Alice', 'last': 'Cooper'}, 'active': True, 'score': 88.5}\n",
      "{'age': 25, 'name': {'first': 'Bob', 'last': 'Cooper'}, 'active': False, 'score': 0.0}\n",
      "{'age': 0, 'name': {'first': 'Charlie', 'last': 'Cooper'}, 'active': True, 'score': 72.0}\n",
      "{'age': 28, 'name': None, 'active': False, 'score': 91.0}\n"
     ]
    }
   ],
   "source": [
    "for row in frame:\n",
    "    print(row)"
   ]
  },
  {
   "cell_type": "code",
   "execution_count": 7,
   "id": "9cefe277",
   "metadata": {},
   "outputs": [
    {
     "name": "stdout",
     "output_type": "stream",
     "text": [
      "TinyFrame(rows=4, columns=4, cols={ 'age': 'Float', 'name': 'OptPyObject', 'active': 'Bool', 'score': 'Float' })\n"
     ]
    },
    {
     "data": {
      "text/plain": [
       "[{'age': 30.0,\n",
       "  'name': {'first': 'Alice', 'last': 'Cooper'},\n",
       "  'active': True,\n",
       "  'score': 88.5},\n",
       " {'age': 25.0,\n",
       "  'name': {'first': 'Bob', 'last': 'Cooper'},\n",
       "  'active': False,\n",
       "  'score': 0.0},\n",
       " {'age': 0.0,\n",
       "  'name': {'first': 'Charlie', 'last': 'Cooper'},\n",
       "  'active': True,\n",
       "  'score': 72.0},\n",
       " {'age': 28.0, 'name': None, 'active': False, 'score': 91.0}]"
      ]
     },
     "execution_count": 7,
     "metadata": {},
     "output_type": "execute_result"
    }
   ],
   "source": [
    "# Cast age to float\n",
    "frame.cast_column(\"age\", float)\n",
    "print(frame)\n",
    "frame.to_dicts()"
   ]
  },
  {
   "cell_type": "code",
   "execution_count": 8,
   "id": "f0ab1b2a",
   "metadata": {},
   "outputs": [
    {
     "data": {
      "text/plain": [
       "[{'age': 40.1,\n",
       "  'name': {'first': 'Alice', 'last': 'Cooper'},\n",
       "  'active': True,\n",
       "  'score': 88.5},\n",
       " {'age': 35.1,\n",
       "  'name': {'first': 'Bob', 'last': 'Cooper'},\n",
       "  'active': False,\n",
       "  'score': 0.0},\n",
       " {'age': 10.1,\n",
       "  'name': {'first': 'Charlie', 'last': 'Cooper'},\n",
       "  'active': True,\n",
       "  'score': 72.0},\n",
       " {'age': 38.1, 'name': None, 'active': False, 'score': 91.0}]"
      ]
     },
     "execution_count": 8,
     "metadata": {},
     "output_type": "execute_result"
    }
   ],
   "source": [
    "# Edit age by adding 10.1\n",
    "def add_ten(val):\n",
    "    if val is None:\n",
    "        return val\n",
    "    return val + 10.1\n",
    "\n",
    "frame.edit_column(\"age\", add_ten)\n",
    "frame.to_dicts()"
   ]
  },
  {
   "cell_type": "code",
   "execution_count": 9,
   "id": "73e1c8cf",
   "metadata": {},
   "outputs": [
    {
     "data": {
      "text/plain": [
       "TinyFrame(rows=4, columns=4, cols={ 'age': 'Mixed', 'name': 'OptPyObject', 'active': 'Bool', 'score': 'Float' })"
      ]
     },
     "execution_count": 9,
     "metadata": {},
     "output_type": "execute_result"
    }
   ],
   "source": [
    "frame"
   ]
  },
  {
   "cell_type": "code",
   "execution_count": 10,
   "id": "ca4bdf5a",
   "metadata": {},
   "outputs": [
    {
     "name": "stdout",
     "output_type": "stream",
     "text": [
      "TinyFrame(rows=4, columns=3, cols={ 'age': 'Mixed', 'score': 'Float', 'full_name': 'OptPyObject' })\n"
     ]
    },
    {
     "data": {
      "text/plain": [
       "[{'age': 40.1,\n",
       "  'score': 88.5,\n",
       "  'full_name': {'first': 'Alice', 'last': 'Cooper'}},\n",
       " {'age': 35.1, 'score': 0.0, 'full_name': {'first': 'Bob', 'last': 'Cooper'}},\n",
       " {'age': 10.1,\n",
       "  'score': 72.0,\n",
       "  'full_name': {'first': 'Charlie', 'last': 'Cooper'}},\n",
       " {'age': 38.1, 'score': 91.0, 'full_name': None}]"
      ]
     },
     "execution_count": 10,
     "metadata": {},
     "output_type": "execute_result"
    }
   ],
   "source": [
    "frame.rename_column(\"name\", \"full_name\")\n",
    "frame.drop_columns([\"active\"])\n",
    "print(frame)\n",
    "frame.to_dicts()"
   ]
  },
  {
   "cell_type": "code",
   "execution_count": null,
   "id": "918250ec",
   "metadata": {},
   "outputs": [],
   "source": []
  }
 ],
 "metadata": {
  "kernelspec": {
   "display_name": ".venv",
   "language": "python",
   "name": "python3"
  },
  "language_info": {
   "codemirror_mode": {
    "name": "ipython",
    "version": 3
   },
   "file_extension": ".py",
   "mimetype": "text/x-python",
   "name": "python",
   "nbconvert_exporter": "python",
   "pygments_lexer": "ipython3",
   "version": "3.11.13"
  }
 },
 "nbformat": 4,
 "nbformat_minor": 5
}
