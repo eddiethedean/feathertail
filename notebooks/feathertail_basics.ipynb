{
 "cells": [
  {
   "cell_type": "markdown",
   "id": "5ae939e4",
   "metadata": {},
   "source": [
    "# Feathertail Basics\n",
    "This notebook demonstrates the main features of `feathertail` for working with tabular data."
   ]
  },
  {
   "cell_type": "code",
   "execution_count": 1,
   "id": "9ad645b8",
   "metadata": {},
   "outputs": [],
   "source": [
    "import feathertail as ft"
   ]
  },
  {
   "cell_type": "code",
   "execution_count": 2,
   "id": "31d0ebde",
   "metadata": {},
   "outputs": [
    {
     "name": "stdout",
     "output_type": "stream",
     "text": [
      "TinyFrame(rows=4, columns=4, cols={ 'name': 'OptPyObject', 'score': 'OptFloat', 'age': 'OptInt', 'active': 'OptBool' })\n"
     ]
    },
    {
     "data": {
      "text/plain": [
       "[{'name': {'first': 'Alice', 'last': 'Cooper'},\n",
       "  'score': 88.5,\n",
       "  'age': 30,\n",
       "  'active': True},\n",
       " {'name': {'first': 'Bob', 'last': 'Cooper'},\n",
       "  'score': None,\n",
       "  'age': 25,\n",
       "  'active': False},\n",
       " {'name': {'first': 'Charlie', 'last': 'Cooper'},\n",
       "  'score': 72.0,\n",
       "  'age': None,\n",
       "  'active': True},\n",
       " {'name': None, 'score': 91.0, 'age': 28, 'active': None}]"
      ]
     },
     "execution_count": 2,
     "metadata": {},
     "output_type": "execute_result"
    }
   ],
   "source": [
    "records = [\n",
    "    {\"name\": {'first': \"Alice\", 'last': 'Cooper'}, \"age\": 30, \"score\": 88.5, \"active\": True},\n",
    "    {\"name\": {'first': \"Bob\", 'last': 'Cooper'}, \"age\": 25, \"score\": None, \"active\": False},\n",
    "    {\"name\": {'first': \"Charlie\", 'last': 'Cooper'}, \"age\": None, \"score\": 72.0, \"active\": True},\n",
    "    {\"name\": None, \"age\": 28, \"score\": 91.0, \"active\": None},\n",
    "]\n",
    "frame = ft.TinyFrame.from_dicts(records)\n",
    "print(frame)\n",
    "frame.to_dicts()"
   ]
  },
  {
   "cell_type": "code",
   "execution_count": 8,
   "id": "8f674551",
   "metadata": {},
   "outputs": [
    {
     "name": "stdout",
     "output_type": "stream",
     "text": [
      "Shape: (4, 4)\n",
      "Length: 4\n",
      "Is empty? False\n"
     ]
    }
   ],
   "source": [
    "print(\"Shape:\", frame.shape)\n",
    "print(\"Length:\", frame.len())\n",
    "print(\"Is empty?\", frame.is_empty())"
   ]
  },
  {
   "cell_type": "code",
   "execution_count": 10,
   "id": "8c5b8bfe",
   "metadata": {},
   "outputs": [
    {
     "data": {
      "text/plain": [
       "[{'name': {'first': 'Alice', 'last': 'Cooper'},\n",
       "  'score': 88.5,\n",
       "  'age': 30,\n",
       "  'active': True},\n",
       " {'name': {'first': 'Bob', 'last': 'Cooper'},\n",
       "  'score': 0.0,\n",
       "  'age': 25,\n",
       "  'active': False},\n",
       " {'name': {'first': 'Charlie', 'last': 'Cooper'},\n",
       "  'score': 72.0,\n",
       "  'age': 0,\n",
       "  'active': True},\n",
       " {'name': None, 'score': 91.0, 'age': 28, 'active': False}]"
      ]
     },
     "execution_count": 10,
     "metadata": {},
     "output_type": "execute_result"
    }
   ],
   "source": [
    "# Fill missing values\n",
    "frame.fillna(value={\"age\": 0, \"score\": 0.0, \"active\": False})\n",
    "frame.to_dicts()"
   ]
  },
  {
   "cell_type": "code",
   "execution_count": 11,
   "id": "f15f2acb",
   "metadata": {},
   "outputs": [
    {
     "data": {
      "text/plain": [
       "TinyFrame(rows=4, columns=4, cols={ 'name': 'OptPyObject', 'score': 'Float', 'age': 'Int', 'active': 'Bool' })"
      ]
     },
     "execution_count": 11,
     "metadata": {},
     "output_type": "execute_result"
    }
   ],
   "source": [
    "frame"
   ]
  },
  {
   "cell_type": "code",
   "execution_count": null,
   "id": "9cefe277",
   "metadata": {},
   "outputs": [],
   "source": [
    "# Cast age to float\n",
    "frame.cast_column(\"age\", float)\n",
    "print(frame)\n",
    "frame.to_dicts()"
   ]
  },
  {
   "cell_type": "code",
   "execution_count": null,
   "id": "f0ab1b2a",
   "metadata": {},
   "outputs": [],
   "source": [
    "# Edit score by adding 10\n",
    "def add_ten(val):\n",
    "    if val is None:\n",
    "        return val\n",
    "    return val + 10\n",
    "\n",
    "frame.edit_column(\"score\", add_ten)\n",
    "frame.to_dicts()"
   ]
  },
  {
   "cell_type": "code",
   "execution_count": null,
   "id": "ca4bdf5a",
   "metadata": {},
   "outputs": [],
   "source": [
    "frame.rename_column(\"name\", \"full_name\")\n",
    "frame.drop_columns([\"active\"])\n",
    "print(frame)\n",
    "frame.to_dicts()"
   ]
  },
  {
   "cell_type": "code",
   "execution_count": null,
   "id": "918250ec",
   "metadata": {},
   "outputs": [],
   "source": []
  }
 ],
 "metadata": {
  "kernelspec": {
   "display_name": ".venv",
   "language": "python",
   "name": "python3"
  },
  "language_info": {
   "codemirror_mode": {
    "name": "ipython",
    "version": 3
   },
   "file_extension": ".py",
   "mimetype": "text/x-python",
   "name": "python",
   "nbconvert_exporter": "python",
   "pygments_lexer": "ipython3",
   "version": "3.11.13"
  }
 },
 "nbformat": 4,
 "nbformat_minor": 5
}
