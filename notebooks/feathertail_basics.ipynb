{
 "cells": [
  {
   "cell_type": "markdown",
   "id": "5ae939e4",
   "metadata": {},
   "source": [
    "# Feathertail Basics\n",
    "This notebook demonstrates the main features of `feathertail` for working with tabular data."
   ]
  },
  {
   "cell_type": "code",
   "execution_count": 1,
   "id": "9ad645b8",
   "metadata": {},
   "outputs": [],
   "source": [
    "import feathertail as ft"
   ]
  },
  {
   "cell_type": "code",
   "execution_count": 2,
   "id": "31d0ebde",
   "metadata": {},
   "outputs": [
    {
     "name": "stdout",
     "output_type": "stream",
     "text": [
      "TinyFrame(rows=4, columns=4, cols={ 'active': 'OptBool', 'score': 'OptFloat', 'name': 'Str', 'age': 'OptInt' })\n"
     ]
    },
    {
     "data": {
      "text/plain": [
       "[{'active': True, 'score': 88.5, 'name': 'Alice', 'age': 30},\n",
       " {'active': False, 'score': None, 'name': 'Bob', 'age': 25},\n",
       " {'active': True, 'score': 72.0, 'name': 'Charlie', 'age': None},\n",
       " {'active': None, 'score': 91.0, 'name': 'Diana', 'age': 28}]"
      ]
     },
     "execution_count": 2,
     "metadata": {},
     "output_type": "execute_result"
    }
   ],
   "source": [
    "records = [\n",
    "    {\"name\": \"Alice\", \"age\": 30, \"score\": 88.5, \"active\": True},\n",
    "    {\"name\": \"Bob\", \"age\": 25, \"score\": None, \"active\": False},\n",
    "    {\"name\": \"Charlie\", \"age\": None, \"score\": 72.0, \"active\": True},\n",
    "    {\"name\": \"Diana\", \"age\": 28, \"score\": 91.0, \"active\": None},\n",
    "]\n",
    "frame = ft.TinyFrame.from_dicts(records)\n",
    "print(frame)\n",
    "frame.to_dicts()"
   ]
  },
  {
   "cell_type": "code",
   "execution_count": 3,
   "id": "8f674551",
   "metadata": {},
   "outputs": [
    {
     "name": "stdout",
     "output_type": "stream",
     "text": [
      "Shape: (4, 4)\n",
      "Length: 4\n",
      "Is empty? False\n"
     ]
    }
   ],
   "source": [
    "print(\"Shape:\", frame.shape)\n",
    "print(\"Length:\", frame.len())\n",
    "print(\"Is empty?\", frame.is_empty())"
   ]
  },
  {
   "cell_type": "code",
   "execution_count": 4,
   "id": "8c5b8bfe",
   "metadata": {},
   "outputs": [
    {
     "data": {
      "text/plain": [
       "[{'active': True, 'score': 88.5, 'name': 'Alice', 'age': 30},\n",
       " {'active': False, 'score': 0.0, 'name': 'Bob', 'age': 25},\n",
       " {'active': True, 'score': 72.0, 'name': 'Charlie', 'age': 0},\n",
       " {'active': False, 'score': 91.0, 'name': 'Diana', 'age': 28}]"
      ]
     },
     "execution_count": 4,
     "metadata": {},
     "output_type": "execute_result"
    }
   ],
   "source": [
    "# Fill missing values\n",
    "frame.fillna(value={\"age\": 0, \"score\": 0.0, \"active\": False})\n",
    "frame.to_dicts()"
   ]
  },
  {
   "cell_type": "code",
   "execution_count": 5,
   "id": "9cefe277",
   "metadata": {},
   "outputs": [
    {
     "name": "stdout",
     "output_type": "stream",
     "text": [
      "TinyFrame(rows=4, columns=4, cols={ 'active': 'OptBool', 'score': 'OptFloat', 'name': 'Str', 'age': 'OptFloat' })\n"
     ]
    },
    {
     "data": {
      "text/plain": [
       "[{'active': True, 'score': 88.5, 'name': 'Alice', 'age': 30.0},\n",
       " {'active': False, 'score': 0.0, 'name': 'Bob', 'age': 25.0},\n",
       " {'active': True, 'score': 72.0, 'name': 'Charlie', 'age': 0.0},\n",
       " {'active': False, 'score': 91.0, 'name': 'Diana', 'age': 28.0}]"
      ]
     },
     "execution_count": 5,
     "metadata": {},
     "output_type": "execute_result"
    }
   ],
   "source": [
    "# Cast age to float\n",
    "frame.cast_column(\"age\", float)\n",
    "print(frame)\n",
    "frame.to_dicts()"
   ]
  },
  {
   "cell_type": "code",
   "execution_count": 6,
   "id": "f0ab1b2a",
   "metadata": {},
   "outputs": [
    {
     "data": {
      "text/plain": [
       "[{'active': True, 'score': 98.5, 'name': 'Alice', 'age': 30.0},\n",
       " {'active': False, 'score': 10.0, 'name': 'Bob', 'age': 25.0},\n",
       " {'active': True, 'score': 82.0, 'name': 'Charlie', 'age': 0.0},\n",
       " {'active': False, 'score': 101.0, 'name': 'Diana', 'age': 28.0}]"
      ]
     },
     "execution_count": 6,
     "metadata": {},
     "output_type": "execute_result"
    }
   ],
   "source": [
    "# Edit score by adding 10\n",
    "def add_ten(val):\n",
    "    if val is None:\n",
    "        return val\n",
    "    return val + 10\n",
    "\n",
    "frame.edit_column(\"score\", add_ten)\n",
    "frame.to_dicts()"
   ]
  },
  {
   "cell_type": "code",
   "execution_count": 7,
   "id": "ca4bdf5a",
   "metadata": {},
   "outputs": [
    {
     "name": "stdout",
     "output_type": "stream",
     "text": [
      "TinyFrame(rows=4, columns=3, cols={ 'score': 'OptFloat', 'full_name': 'Str', 'age': 'OptFloat' })\n"
     ]
    },
    {
     "data": {
      "text/plain": [
       "[{'score': 98.5, 'full_name': 'Alice', 'age': 30.0},\n",
       " {'score': 10.0, 'full_name': 'Bob', 'age': 25.0},\n",
       " {'score': 82.0, 'full_name': 'Charlie', 'age': 0.0},\n",
       " {'score': 101.0, 'full_name': 'Diana', 'age': 28.0}]"
      ]
     },
     "execution_count": 7,
     "metadata": {},
     "output_type": "execute_result"
    }
   ],
   "source": [
    "frame.rename_column(\"name\", \"full_name\")\n",
    "frame.drop_columns([\"active\"])\n",
    "print(frame)\n",
    "frame.to_dicts()"
   ]
  }
 ],
 "metadata": {
  "kernelspec": {
   "display_name": ".venv",
   "language": "python",
   "name": "python3"
  },
  "language_info": {
   "codemirror_mode": {
    "name": "ipython",
    "version": 3
   },
   "file_extension": ".py",
   "mimetype": "text/x-python",
   "name": "python",
   "nbconvert_exporter": "python",
   "pygments_lexer": "ipython3",
   "version": "3.9.6"
  }
 },
 "nbformat": 4,
 "nbformat_minor": 5
}
