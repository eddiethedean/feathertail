{
 "cells": [
  {
   "cell_type": "markdown",
   "id": "e3ee890e",
   "metadata": {},
   "source": [
    "# 🪶 feathertail: Column Access Example\n",
    "\n",
    "This notebook demonstrates the new `.col()` functionality for extracting and iterating over individual columns."
   ]
  },
  {
   "cell_type": "code",
   "execution_count": 1,
   "id": "b41cc12d",
   "metadata": {},
   "outputs": [
    {
     "name": "stdout",
     "output_type": "stream",
     "text": [
      "TinyFrame(rows=3, columns=3, cols={ 'age': 'OptInt', 'name': 'Str', 'score': 'OptFloat' })\n",
      "[{'age': 30, 'name': 'Alice', 'score': 95.5}, {'age': None, 'name': 'Bob', 'score': 85.0}, {'age': 25, 'name': 'Charlie', 'score': None}]\n"
     ]
    }
   ],
   "source": [
    "\n",
    "import feathertail as ft\n",
    "\n",
    "records = [\n",
    "    {\"name\": \"Alice\", \"age\": 30, \"score\": 95.5},\n",
    "    {\"name\": \"Bob\", \"age\": None, \"score\": 85.0},\n",
    "    {\"name\": \"Charlie\", \"age\": 25, \"score\": None},\n",
    "]\n",
    "frame = ft.TinyFrame.from_dicts(records)\n",
    "print(frame)\n",
    "print(frame.to_dicts())\n"
   ]
  },
  {
   "cell_type": "markdown",
   "id": "0b764d1b",
   "metadata": {},
   "source": [
    "## Get a column"
   ]
  },
  {
   "cell_type": "code",
   "execution_count": 2,
   "id": "4cfeadcc",
   "metadata": {},
   "outputs": [
    {
     "name": "stdout",
     "output_type": "stream",
     "text": [
      "TinyCol(name='age', type='OptInt')\n"
     ]
    }
   ],
   "source": [
    "\n",
    "col = frame.col(\"age\")\n",
    "print(col)\n"
   ]
  },
  {
   "cell_type": "markdown",
   "id": "4a2d8b07",
   "metadata": {},
   "source": [
    "## Iterate over column values"
   ]
  },
  {
   "cell_type": "code",
   "execution_count": 3,
   "id": "9e8c7599",
   "metadata": {},
   "outputs": [
    {
     "name": "stdout",
     "output_type": "stream",
     "text": [
      "30\n",
      "None\n",
      "25\n"
     ]
    }
   ],
   "source": [
    "\n",
    "for val in col:\n",
    "    print(val)\n"
   ]
  },
  {
   "cell_type": "markdown",
   "id": "7e462c0f",
   "metadata": {},
   "source": [
    "## Convert column to list"
   ]
  },
  {
   "cell_type": "code",
   "execution_count": 4,
   "id": "0e6b2b8d",
   "metadata": {},
   "outputs": [
    {
     "name": "stdout",
     "output_type": "stream",
     "text": [
      "[30, None, 25]\n"
     ]
    }
   ],
   "source": [
    "\n",
    "age_list = list(col)\n",
    "print(age_list)\n"
   ]
  },
  {
   "cell_type": "markdown",
   "id": "e3fd1022",
   "metadata": {},
   "source": [
    "## Access another column"
   ]
  },
  {
   "cell_type": "code",
   "execution_count": 5,
   "id": "5f4a745d",
   "metadata": {},
   "outputs": [
    {
     "name": "stdout",
     "output_type": "stream",
     "text": [
      "TinyCol(name='score', type='OptFloat')\n",
      "95.5\n",
      "85.0\n",
      "None\n"
     ]
    }
   ],
   "source": [
    "\n",
    "score_col = frame.col(\"score\")\n",
    "print(score_col)\n",
    "for val in score_col:\n",
    "    print(val)\n"
   ]
  }
 ],
 "metadata": {
  "kernelspec": {
   "display_name": ".venv",
   "language": "python",
   "name": "python3"
  },
  "language_info": {
   "codemirror_mode": {
    "name": "ipython",
    "version": 3
   },
   "file_extension": ".py",
   "mimetype": "text/x-python",
   "name": "python",
   "nbconvert_exporter": "python",
   "pygments_lexer": "ipython3",
   "version": "3.11.13"
  }
 },
 "nbformat": 4,
 "nbformat_minor": 5
}
