{
 "cells": [
  {
   "cell_type": "markdown",
   "id": "4297ea9a",
   "metadata": {},
   "source": [
    "# Feathertail Mixed Types\n",
    "Working with columns that contain mixed types."
   ]
  },
  {
   "cell_type": "code",
   "execution_count": 2,
   "id": "5f6928e2",
   "metadata": {},
   "outputs": [],
   "source": [
    "import feathertail as ft"
   ]
  },
  {
   "cell_type": "code",
   "execution_count": 3,
   "id": "00285323",
   "metadata": {},
   "outputs": [
    {
     "name": "stdout",
     "output_type": "stream",
     "text": [
      "TinyFrame(rows=5, columns=1, cols={ 'value': 'OptMixed' })\n"
     ]
    },
    {
     "data": {
      "text/plain": [
       "[{'value': 1},\n",
       " {'value': 'two'},\n",
       " {'value': 3.0},\n",
       " {'value': True},\n",
       " {'value': None}]"
      ]
     },
     "execution_count": 3,
     "metadata": {},
     "output_type": "execute_result"
    }
   ],
   "source": [
    "records = [\n",
    "    {\"value\": 1},\n",
    "    {\"value\": \"two\"},\n",
    "    {\"value\": 3.0},\n",
    "    {\"value\": True},\n",
    "    {\"value\": None},\n",
    "]\n",
    "frame = ft.TinyFrame.from_dicts(records)\n",
    "print(frame)\n",
    "frame.to_dicts()"
   ]
  },
  {
   "cell_type": "code",
   "execution_count": 4,
   "id": "1f4d489b",
   "metadata": {},
   "outputs": [
    {
     "data": {
      "text/plain": [
       "[{'value': 1},\n",
       " {'value': 'two'},\n",
       " {'value': 3.0},\n",
       " {'value': True},\n",
       " {'value': 'missing'}]"
      ]
     },
     "execution_count": 4,
     "metadata": {},
     "output_type": "execute_result"
    }
   ],
   "source": [
    "frame.fillna(value={\"value\": \"missing\"})\n",
    "frame.to_dicts()"
   ]
  }
 ],
 "metadata": {
  "kernelspec": {
   "display_name": ".venv",
   "language": "python",
   "name": "python3"
  },
  "language_info": {
   "codemirror_mode": {
    "name": "ipython",
    "version": 3
   },
   "file_extension": ".py",
   "mimetype": "text/x-python",
   "name": "python",
   "nbconvert_exporter": "python",
   "pygments_lexer": "ipython3",
   "version": "3.9.6"
  }
 },
 "nbformat": 4,
 "nbformat_minor": 5
}
