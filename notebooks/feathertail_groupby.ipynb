{
 "cells": [
  {
   "cell_type": "markdown",
   "id": "369eaa50",
   "metadata": {},
   "source": [
    "# Feathertail GroupBy\n",
    "Grouping and aggregation with `TinyGroupBy`."
   ]
  },
  {
   "cell_type": "code",
   "execution_count": 1,
   "id": "a29d60c8",
   "metadata": {},
   "outputs": [],
   "source": [
    "import feathertail as ft"
   ]
  },
  {
   "cell_type": "code",
   "execution_count": 2,
   "id": "936474ef",
   "metadata": {},
   "outputs": [
    {
     "name": "stdout",
     "output_type": "stream",
     "text": [
      "TinyFrame(rows=5, columns=2, cols={ 'city': 'Str', 'sales': 'Int' })\n"
     ]
    }
   ],
   "source": [
    "records = [\n",
    "    {\"city\": \"NY\", \"sales\": 100},\n",
    "    {\"city\": \"LA\", \"sales\": 200},\n",
    "    {\"city\": \"NY\", \"sales\": 150},\n",
    "    {\"city\": \"LA\", \"sales\": 50},\n",
    "    {\"city\": \"Chicago\", \"sales\": 80},\n",
    "]\n",
    "frame = ft.TinyFrame.from_dicts(records)\n",
    "print(frame)"
   ]
  },
  {
   "cell_type": "code",
   "execution_count": 3,
   "id": "71655715",
   "metadata": {},
   "outputs": [
    {
     "name": "stdout",
     "output_type": "stream",
     "text": [
      "['city']\n",
      "{('NY',): [0, 2], ('Chicago',): [4], ('LA',): [1, 3]}\n"
     ]
    }
   ],
   "source": [
    "groupby = ft.TinyGroupBy(frame, keys=[\"city\"])\n",
    "print(groupby.keys)\n",
    "print(groupby.groups)"
   ]
  },
  {
   "cell_type": "code",
   "execution_count": 4,
   "id": "d5c7cbfb",
   "metadata": {},
   "outputs": [
    {
     "name": "stdout",
     "output_type": "stream",
     "text": [
      "TinyFrame(rows=3, columns=2, cols={ 'city': 'OptStr', 'count': 'OptInt' })\n"
     ]
    },
    {
     "data": {
      "text/plain": [
       "[{'city': 'NY', 'count': 2},\n",
       " {'city': 'Chicago', 'count': 1},\n",
       " {'city': 'LA', 'count': 2}]"
      ]
     },
     "execution_count": 4,
     "metadata": {},
     "output_type": "execute_result"
    }
   ],
   "source": [
    "count_df = groupby.count(frame)\n",
    "print(count_df)\n",
    "count_df.to_dicts()"
   ]
  }
 ],
 "metadata": {
  "kernelspec": {
   "display_name": ".venv",
   "language": "python",
   "name": "python3"
  },
  "language_info": {
   "codemirror_mode": {
    "name": "ipython",
    "version": 3
   },
   "file_extension": ".py",
   "mimetype": "text/x-python",
   "name": "python",
   "nbconvert_exporter": "python",
   "pygments_lexer": "ipython3",
   "version": "3.11.13"
  }
 },
 "nbformat": 4,
 "nbformat_minor": 5
}
